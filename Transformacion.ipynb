{
 "cells": [
  {
   "attachments": {},
   "cell_type": "markdown",
   "metadata": {},
   "source": [
    "# Inicio\n",
    "## Import librarys"
   ]
  },
  {
   "cell_type": "code",
   "execution_count": 1,
   "metadata": {},
   "outputs": [],
   "source": [
    "# ! conda install plotnine\n",
    "# ! conda install pandas\n",
    "# ! conda install scikit-learn\n",
    "# ! conda install -c anaconda git\n"
   ]
  },
  {
   "cell_type": "code",
   "execution_count": 2,
   "metadata": {},
   "outputs": [],
   "source": [
    "import pandas as pd\n",
    "import numpy as np\n",
    "import matplotlib.pyplot as plt"
   ]
  },
  {
   "cell_type": "code",
   "execution_count": 3,
   "metadata": {},
   "outputs": [],
   "source": [
    "from plotnine import (\n",
    "ggplot,\n",
    "geom_histogram,\n",
    "aes,\n",
    "geom_col,\n",
    "theme,\n",
    "element_text,\n",
    "ggtitle,\n",
    "scale_x_discrete,\n",
    "facet_grid,\n",
    ")"
   ]
  },
  {
   "attachments": {},
   "cell_type": "markdown",
   "metadata": {},
   "source": [
    "## Funciones utiles"
   ]
  },
  {
   "cell_type": "code",
   "execution_count": 4,
   "metadata": {},
   "outputs": [],
   "source": [
    "import exploratory_lib as exp_lib"
   ]
  },
  {
   "cell_type": "code",
   "execution_count": 5,
   "metadata": {},
   "outputs": [],
   "source": [
    "dic_med=exp_lib.class_diccionarios()\n",
    "dic_med.set_list_num(list(range(1,13)))\n",
    "dic_med.set_list_name(exp_lib.array_mes_name)\n",
    "dic_med.set_dictionary()"
   ]
  },
  {
   "cell_type": "code",
   "execution_count": 6,
   "metadata": {},
   "outputs": [
    {
     "data": {
      "text/plain": [
       "'Enero'"
      ]
     },
     "execution_count": 6,
     "metadata": {},
     "output_type": "execute_result"
    }
   ],
   "source": [
    "dic_med.int_to_name(1)"
   ]
  },
  {
   "attachments": {},
   "cell_type": "markdown",
   "metadata": {},
   "source": [
    "## Extract CSV"
   ]
  },
  {
   "cell_type": "code",
   "execution_count": 7,
   "metadata": {},
   "outputs": [
    {
     "name": "stdout",
     "output_type": "stream",
     "text": [
      "Dimensiones: (68206, 18)\n",
      "Columnas \n",
      " Fecha-I, Vlo-I, Ori-I, Des-I, Emp-I, Fecha-O, Vlo-O, Ori-O, Des-O, Emp-O, DIA, MES, AÑO, DIANOM, TIPOVUELO, OPERA, SIGLAORI, SIGLADES\n"
     ]
    },
    {
     "data": {
      "text/html": [
       "<div>\n",
       "<style scoped>\n",
       "    .dataframe tbody tr th:only-of-type {\n",
       "        vertical-align: middle;\n",
       "    }\n",
       "\n",
       "    .dataframe tbody tr th {\n",
       "        vertical-align: top;\n",
       "    }\n",
       "\n",
       "    .dataframe thead th {\n",
       "        text-align: right;\n",
       "    }\n",
       "</style>\n",
       "<table border=\"1\" class=\"dataframe\">\n",
       "  <thead>\n",
       "    <tr style=\"text-align: right;\">\n",
       "      <th></th>\n",
       "      <th>Fecha-I</th>\n",
       "      <th>Vlo-I</th>\n",
       "      <th>Ori-I</th>\n",
       "      <th>Des-I</th>\n",
       "      <th>Emp-I</th>\n",
       "      <th>Fecha-O</th>\n",
       "      <th>Vlo-O</th>\n",
       "      <th>Ori-O</th>\n",
       "      <th>Des-O</th>\n",
       "      <th>Emp-O</th>\n",
       "      <th>DIA</th>\n",
       "      <th>MES</th>\n",
       "      <th>AÑO</th>\n",
       "      <th>DIANOM</th>\n",
       "      <th>TIPOVUELO</th>\n",
       "      <th>OPERA</th>\n",
       "      <th>SIGLAORI</th>\n",
       "      <th>SIGLADES</th>\n",
       "    </tr>\n",
       "  </thead>\n",
       "  <tbody>\n",
       "    <tr>\n",
       "      <th>0</th>\n",
       "      <td>2017-01-01 23:30:00</td>\n",
       "      <td>226</td>\n",
       "      <td>SCEL</td>\n",
       "      <td>KMIA</td>\n",
       "      <td>AAL</td>\n",
       "      <td>2017-01-01 23:33:00</td>\n",
       "      <td>226</td>\n",
       "      <td>SCEL</td>\n",
       "      <td>KMIA</td>\n",
       "      <td>AAL</td>\n",
       "      <td>1</td>\n",
       "      <td>1</td>\n",
       "      <td>2017</td>\n",
       "      <td>Domingo</td>\n",
       "      <td>I</td>\n",
       "      <td>American Airlines</td>\n",
       "      <td>Santiago</td>\n",
       "      <td>Miami</td>\n",
       "    </tr>\n",
       "    <tr>\n",
       "      <th>1</th>\n",
       "      <td>2017-01-02 23:30:00</td>\n",
       "      <td>226</td>\n",
       "      <td>SCEL</td>\n",
       "      <td>KMIA</td>\n",
       "      <td>AAL</td>\n",
       "      <td>2017-01-02 23:39:00</td>\n",
       "      <td>226</td>\n",
       "      <td>SCEL</td>\n",
       "      <td>KMIA</td>\n",
       "      <td>AAL</td>\n",
       "      <td>2</td>\n",
       "      <td>1</td>\n",
       "      <td>2017</td>\n",
       "      <td>Lunes</td>\n",
       "      <td>I</td>\n",
       "      <td>American Airlines</td>\n",
       "      <td>Santiago</td>\n",
       "      <td>Miami</td>\n",
       "    </tr>\n",
       "  </tbody>\n",
       "</table>\n",
       "</div>"
      ],
      "text/plain": [
       "               Fecha-I Vlo-I Ori-I Des-I Emp-I              Fecha-O Vlo-O  \\\n",
       "0  2017-01-01 23:30:00   226  SCEL  KMIA   AAL  2017-01-01 23:33:00   226   \n",
       "1  2017-01-02 23:30:00   226  SCEL  KMIA   AAL  2017-01-02 23:39:00   226   \n",
       "\n",
       "  Ori-O Des-O Emp-O DIA MES   AÑO   DIANOM TIPOVUELO              OPERA  \\\n",
       "0  SCEL  KMIA   AAL   1   1  2017  Domingo         I  American Airlines   \n",
       "1  SCEL  KMIA   AAL   2   1  2017    Lunes         I  American Airlines   \n",
       "\n",
       "   SIGLAORI SIGLADES  \n",
       "0  Santiago    Miami  \n",
       "1  Santiago    Miami  "
      ]
     },
     "execution_count": 7,
     "metadata": {},
     "output_type": "execute_result"
    }
   ],
   "source": [
    "# #elimina una columna en especifico\n",
    "#     data_out.drop('Año natural', inplace=True, axis=1)\n",
    "#     data_out.head(1)\n",
    "df_origen = exp_lib.extract_csv(\"data\",\"dataset_SCL\",',')\n",
    "df_origen.head(2)"
   ]
  },
  {
   "cell_type": "markdown",
   "metadata": {},
   "source": [
    "## Transformacion de los datos"
   ]
  },
  {
   "cell_type": "code",
   "execution_count": 8,
   "metadata": {},
   "outputs": [],
   "source": [
    "df_out = df_origen.copy().reset_index()\n",
    "df_out=df_out.rename(columns= {'index':\"id_vuelo\"})"
   ]
  },
  {
   "cell_type": "markdown",
   "metadata": {},
   "source": [
    "### Formato fecha"
   ]
  },
  {
   "cell_type": "code",
   "execution_count": 9,
   "metadata": {},
   "outputs": [],
   "source": [
    "def convert_to_date(datetime_str):\n",
    "    return pd.to_datetime(datetime_str, format='%Y-%m-%d %H:%M:%S')"
   ]
  },
  {
   "cell_type": "code",
   "execution_count": 10,
   "metadata": {},
   "outputs": [
    {
     "data": {
      "text/plain": [
       "Timestamp('2017-01-02 23:39:00')"
      ]
     },
     "execution_count": 10,
     "metadata": {},
     "output_type": "execute_result"
    }
   ],
   "source": [
    "convert_to_date(\"2017-01-02 23:39:00\")"
   ]
  },
  {
   "cell_type": "code",
   "execution_count": 11,
   "metadata": {},
   "outputs": [
    {
     "data": {
      "text/html": [
       "<div>\n",
       "<style scoped>\n",
       "    .dataframe tbody tr th:only-of-type {\n",
       "        vertical-align: middle;\n",
       "    }\n",
       "\n",
       "    .dataframe tbody tr th {\n",
       "        vertical-align: top;\n",
       "    }\n",
       "\n",
       "    .dataframe thead th {\n",
       "        text-align: right;\n",
       "    }\n",
       "</style>\n",
       "<table border=\"1\" class=\"dataframe\">\n",
       "  <thead>\n",
       "    <tr style=\"text-align: right;\">\n",
       "      <th></th>\n",
       "      <th>date_i</th>\n",
       "      <th>Fecha-I</th>\n",
       "      <th>date_o</th>\n",
       "      <th>Fecha-O</th>\n",
       "    </tr>\n",
       "  </thead>\n",
       "  <tbody>\n",
       "    <tr>\n",
       "      <th>0</th>\n",
       "      <td>2017-01-01 23:30:00</td>\n",
       "      <td>2017-01-01 23:30:00</td>\n",
       "      <td>2017-01-01 23:33:00</td>\n",
       "      <td>2017-01-01 23:33:00</td>\n",
       "    </tr>\n",
       "    <tr>\n",
       "      <th>1</th>\n",
       "      <td>2017-01-02 23:30:00</td>\n",
       "      <td>2017-01-02 23:30:00</td>\n",
       "      <td>2017-01-02 23:39:00</td>\n",
       "      <td>2017-01-02 23:39:00</td>\n",
       "    </tr>\n",
       "    <tr>\n",
       "      <th>2</th>\n",
       "      <td>2017-01-03 23:30:00</td>\n",
       "      <td>2017-01-03 23:30:00</td>\n",
       "      <td>2017-01-03 23:39:00</td>\n",
       "      <td>2017-01-03 23:39:00</td>\n",
       "    </tr>\n",
       "  </tbody>\n",
       "</table>\n",
       "</div>"
      ],
      "text/plain": [
       "               date_i              Fecha-I              date_o  \\\n",
       "0 2017-01-01 23:30:00  2017-01-01 23:30:00 2017-01-01 23:33:00   \n",
       "1 2017-01-02 23:30:00  2017-01-02 23:30:00 2017-01-02 23:39:00   \n",
       "2 2017-01-03 23:30:00  2017-01-03 23:30:00 2017-01-03 23:39:00   \n",
       "\n",
       "               Fecha-O  \n",
       "0  2017-01-01 23:33:00  \n",
       "1  2017-01-02 23:39:00  \n",
       "2  2017-01-03 23:39:00  "
      ]
     },
     "execution_count": 11,
     "metadata": {},
     "output_type": "execute_result"
    }
   ],
   "source": [
    "col_name_i = \"Fecha-I\"\n",
    "col_name_0 = \"Fecha-O\"\n",
    "df_out[\"date_i\"] = df_out[col_name_i].apply(convert_to_date)\n",
    "df_out[\"date_o\"] = df_out[col_name_0].apply(convert_to_date)\n",
    "df_out[[\n",
    "    \"date_i\" , \"Fecha-I\",\n",
    "    \"date_o\" , \"Fecha-O\",\n",
    "]].head(3)"
   ]
  },
  {
   "attachments": {},
   "cell_type": "markdown",
   "metadata": {},
   "source": [
    "### HIGH_SEASON"
   ]
  },
  {
   "cell_type": "code",
   "execution_count": 12,
   "metadata": {},
   "outputs": [
    {
     "data": {
      "text/plain": [
       "0"
      ]
     },
     "execution_count": 12,
     "metadata": {},
     "output_type": "execute_result"
    }
   ],
   "source": [
    "date_x = convert_to_date(\"2017-05-02 23:39:00\")\n",
    "\n",
    "Año_actual= date_x.year\n",
    "\n",
    "# Between Dec-15 and Mar-3\n",
    "verano_start = convert_to_date( f\"{Año_actual}-12-15 00:00:00\") \n",
    "verano_end = convert_to_date( f\"{Año_actual}-3-4 00:00:00\")\n",
    "bool_verano = (\n",
    "        (verano_end > date_x )\n",
    "        |(date_x >verano_start)\n",
    "        )\n",
    "# Jul-15 and Jul-31, \n",
    "invierno_start = convert_to_date( f\"{Año_actual}-7-15 00:00:00\") \n",
    "invierno_end = convert_to_date( f\"{Año_actual}-8-1 00:00:00\")\n",
    "bool_invierno = (invierno_end > date_x >invierno_start)\n",
    "# Sep-11 and Sep-30\n",
    "sep_start = convert_to_date( f\"{Año_actual}-9-11 00:00:00\") \n",
    "sep_end = convert_to_date( f\"{Año_actual}-10-1 00:00:00\")\n",
    "bool_sep = (sep_end > date_x >sep_start)\n",
    "\n",
    "# Condicion validado\n",
    "high_season_value = 0\n",
    "if bool_verano | bool_invierno | bool_sep:\n",
    "    high_season_value =  1\n",
    "else:\n",
    "    high_season_value =  0\n",
    "high_season_value"
   ]
  },
  {
   "cell_type": "code",
   "execution_count": 13,
   "metadata": {},
   "outputs": [],
   "source": [
    "def col_high_season(date_x):\n",
    "    Año_actual= date_x.year\n",
    "\n",
    "    # Between Dec-15 and Mar-3\n",
    "    verano_start = convert_to_date( f\"{Año_actual}-12-15 00:00:00\") \n",
    "    verano_end = convert_to_date( f\"{Año_actual}-3-4 00:00:00\")\n",
    "    bool_verano = (\n",
    "            (verano_end > date_x )\n",
    "            |(date_x >verano_start)\n",
    "            )\n",
    "    # Jul-15 and Jul-31, \n",
    "    invierno_start = convert_to_date( f\"{Año_actual}-7-15 00:00:00\") \n",
    "    invierno_end = convert_to_date( f\"{Año_actual}-8-1 00:00:00\")\n",
    "    bool_invierno = (invierno_end > date_x >invierno_start)\n",
    "    # Sep-11 and Sep-30\n",
    "    sep_start = convert_to_date( f\"{Año_actual}-9-11 00:00:00\") \n",
    "    sep_end = convert_to_date( f\"{Año_actual}-10-1 00:00:00\")\n",
    "    bool_sep = (sep_end > date_x >sep_start)\n",
    "    if bool_verano | bool_invierno | bool_sep:\n",
    "        return 1\n",
    "    else:\n",
    "        return 0"
   ]
  },
  {
   "cell_type": "code",
   "execution_count": 14,
   "metadata": {},
   "outputs": [
    {
     "data": {
      "text/html": [
       "<div>\n",
       "<style scoped>\n",
       "    .dataframe tbody tr th:only-of-type {\n",
       "        vertical-align: middle;\n",
       "    }\n",
       "\n",
       "    .dataframe tbody tr th {\n",
       "        vertical-align: top;\n",
       "    }\n",
       "\n",
       "    .dataframe thead th {\n",
       "        text-align: right;\n",
       "    }\n",
       "</style>\n",
       "<table border=\"1\" class=\"dataframe\">\n",
       "  <thead>\n",
       "    <tr style=\"text-align: right;\">\n",
       "      <th></th>\n",
       "      <th>high_season</th>\n",
       "      <th>date_i</th>\n",
       "    </tr>\n",
       "  </thead>\n",
       "  <tbody>\n",
       "    <tr>\n",
       "      <th>0</th>\n",
       "      <td>1</td>\n",
       "      <td>2017-01-01 23:30:00</td>\n",
       "    </tr>\n",
       "    <tr>\n",
       "      <th>1</th>\n",
       "      <td>1</td>\n",
       "      <td>2017-01-02 23:30:00</td>\n",
       "    </tr>\n",
       "    <tr>\n",
       "      <th>2</th>\n",
       "      <td>1</td>\n",
       "      <td>2017-01-03 23:30:00</td>\n",
       "    </tr>\n",
       "  </tbody>\n",
       "</table>\n",
       "</div>"
      ],
      "text/plain": [
       "   high_season              date_i\n",
       "0            1 2017-01-01 23:30:00\n",
       "1            1 2017-01-02 23:30:00\n",
       "2            1 2017-01-03 23:30:00"
      ]
     },
     "execution_count": 14,
     "metadata": {},
     "output_type": "execute_result"
    }
   ],
   "source": [
    "df_out[\"high_season\"] = df_out[\"date_i\"].apply(col_high_season)\n",
    "df_out[[\"high_season\",\"date_i\"]].head(3)"
   ]
  },
  {
   "cell_type": "code",
   "execution_count": 15,
   "metadata": {},
   "outputs": [
    {
     "data": {
      "text/plain": [
       "23"
      ]
     },
     "execution_count": 15,
     "metadata": {},
     "output_type": "execute_result"
    }
   ],
   "source": [
    "convert_to_date(\"2017-05-02 23:39:00\").hour\n"
   ]
  },
  {
   "cell_type": "markdown",
   "metadata": {},
   "source": [
    "### period_day"
   ]
  },
  {
   "cell_type": "code",
   "execution_count": 16,
   "metadata": {},
   "outputs": [],
   "source": [
    "def period_day_func(hora_in):\n",
    "    # morning (between 5:00 and 11:59)\n",
    "    # afternoon (between 12:00 and 18:59) \n",
    "    # night (between 19:00 and 4:59)\n",
    "    if 5<=hora_in<12:\n",
    "        return \"morning\"\n",
    "    elif 12<=hora_in<19:\n",
    "        return \"afternoon\"\n",
    "    elif (19<=hora_in) | (hora_in <5):\n",
    "        return \"night\"\n",
    "    else:\n",
    "        return \"error\""
   ]
  },
  {
   "cell_type": "code",
   "execution_count": 17,
   "metadata": {},
   "outputs": [
    {
     "data": {
      "text/plain": [
       "'night'"
      ]
     },
     "execution_count": 17,
     "metadata": {},
     "output_type": "execute_result"
    }
   ],
   "source": [
    "period_day_func(convert_to_date(\"2017-05-02 23:39:00\").hour)"
   ]
  },
  {
   "cell_type": "code",
   "execution_count": 18,
   "metadata": {},
   "outputs": [
    {
     "data": {
      "text/html": [
       "<div>\n",
       "<style scoped>\n",
       "    .dataframe tbody tr th:only-of-type {\n",
       "        vertical-align: middle;\n",
       "    }\n",
       "\n",
       "    .dataframe tbody tr th {\n",
       "        vertical-align: top;\n",
       "    }\n",
       "\n",
       "    .dataframe thead th {\n",
       "        text-align: right;\n",
       "    }\n",
       "</style>\n",
       "<table border=\"1\" class=\"dataframe\">\n",
       "  <thead>\n",
       "    <tr style=\"text-align: right;\">\n",
       "      <th></th>\n",
       "      <th>period_day</th>\n",
       "      <th>date_i</th>\n",
       "    </tr>\n",
       "  </thead>\n",
       "  <tbody>\n",
       "    <tr>\n",
       "      <th>0</th>\n",
       "      <td>night</td>\n",
       "      <td>2017-01-01 23:30:00</td>\n",
       "    </tr>\n",
       "    <tr>\n",
       "      <th>1</th>\n",
       "      <td>night</td>\n",
       "      <td>2017-01-02 23:30:00</td>\n",
       "    </tr>\n",
       "    <tr>\n",
       "      <th>2</th>\n",
       "      <td>night</td>\n",
       "      <td>2017-01-03 23:30:00</td>\n",
       "    </tr>\n",
       "  </tbody>\n",
       "</table>\n",
       "</div>"
      ],
      "text/plain": [
       "  period_day              date_i\n",
       "0      night 2017-01-01 23:30:00\n",
       "1      night 2017-01-02 23:30:00\n",
       "2      night 2017-01-03 23:30:00"
      ]
     },
     "execution_count": 18,
     "metadata": {},
     "output_type": "execute_result"
    }
   ],
   "source": [
    "df_out[\"period_day\"] = df_out[\"date_i\"].dt.hour.apply(period_day_func)\n",
    "df_out[[\"period_day\",\"date_i\"]].head(3)"
   ]
  },
  {
   "cell_type": "markdown",
   "metadata": {},
   "source": [
    "### MIN_DIFF"
   ]
  },
  {
   "cell_type": "code",
   "execution_count": 19,
   "metadata": {},
   "outputs": [
    {
     "data": {
      "text/html": [
       "<div>\n",
       "<style scoped>\n",
       "    .dataframe tbody tr th:only-of-type {\n",
       "        vertical-align: middle;\n",
       "    }\n",
       "\n",
       "    .dataframe tbody tr th {\n",
       "        vertical-align: top;\n",
       "    }\n",
       "\n",
       "    .dataframe thead th {\n",
       "        text-align: right;\n",
       "    }\n",
       "</style>\n",
       "<table border=\"1\" class=\"dataframe\">\n",
       "  <thead>\n",
       "    <tr style=\"text-align: right;\">\n",
       "      <th></th>\n",
       "      <th>min_diff</th>\n",
       "      <th>date_o</th>\n",
       "      <th>date_i</th>\n",
       "    </tr>\n",
       "  </thead>\n",
       "  <tbody>\n",
       "    <tr>\n",
       "      <th>0</th>\n",
       "      <td>3.0</td>\n",
       "      <td>2017-01-01 23:33:00</td>\n",
       "      <td>2017-01-01 23:30:00</td>\n",
       "    </tr>\n",
       "    <tr>\n",
       "      <th>1</th>\n",
       "      <td>9.0</td>\n",
       "      <td>2017-01-02 23:39:00</td>\n",
       "      <td>2017-01-02 23:30:00</td>\n",
       "    </tr>\n",
       "    <tr>\n",
       "      <th>2</th>\n",
       "      <td>9.0</td>\n",
       "      <td>2017-01-03 23:39:00</td>\n",
       "      <td>2017-01-03 23:30:00</td>\n",
       "    </tr>\n",
       "  </tbody>\n",
       "</table>\n",
       "</div>"
      ],
      "text/plain": [
       "   min_diff              date_o              date_i\n",
       "0       3.0 2017-01-01 23:33:00 2017-01-01 23:30:00\n",
       "1       9.0 2017-01-02 23:39:00 2017-01-02 23:30:00\n",
       "2       9.0 2017-01-03 23:39:00 2017-01-03 23:30:00"
      ]
     },
     "execution_count": 19,
     "metadata": {},
     "output_type": "execute_result"
    }
   ],
   "source": [
    "df_out[\"min_diff\"] = (df_out[\"date_o\"] - df_out[\"date_i\"]).dt.total_seconds() / 60\n",
    "df_out[[\"min_diff\",\n",
    "\"date_o\",\n",
    "\"date_i\",\n",
    "]].head(3)"
   ]
  },
  {
   "attachments": {},
   "cell_type": "markdown",
   "metadata": {},
   "source": [
    "### delay_15"
   ]
  },
  {
   "cell_type": "code",
   "execution_count": 20,
   "metadata": {},
   "outputs": [
    {
     "data": {
      "text/html": [
       "<div>\n",
       "<style scoped>\n",
       "    .dataframe tbody tr th:only-of-type {\n",
       "        vertical-align: middle;\n",
       "    }\n",
       "\n",
       "    .dataframe tbody tr th {\n",
       "        vertical-align: top;\n",
       "    }\n",
       "\n",
       "    .dataframe thead th {\n",
       "        text-align: right;\n",
       "    }\n",
       "</style>\n",
       "<table border=\"1\" class=\"dataframe\">\n",
       "  <thead>\n",
       "    <tr style=\"text-align: right;\">\n",
       "      <th></th>\n",
       "      <th>delay_15</th>\n",
       "      <th>min_diff</th>\n",
       "      <th>date_o</th>\n",
       "      <th>date_i</th>\n",
       "    </tr>\n",
       "  </thead>\n",
       "  <tbody>\n",
       "    <tr>\n",
       "      <th>0</th>\n",
       "      <td>0</td>\n",
       "      <td>3.0</td>\n",
       "      <td>2017-01-01 23:33:00</td>\n",
       "      <td>2017-01-01 23:30:00</td>\n",
       "    </tr>\n",
       "    <tr>\n",
       "      <th>1</th>\n",
       "      <td>0</td>\n",
       "      <td>9.0</td>\n",
       "      <td>2017-01-02 23:39:00</td>\n",
       "      <td>2017-01-02 23:30:00</td>\n",
       "    </tr>\n",
       "    <tr>\n",
       "      <th>2</th>\n",
       "      <td>0</td>\n",
       "      <td>9.0</td>\n",
       "      <td>2017-01-03 23:39:00</td>\n",
       "      <td>2017-01-03 23:30:00</td>\n",
       "    </tr>\n",
       "  </tbody>\n",
       "</table>\n",
       "</div>"
      ],
      "text/plain": [
       "   delay_15  min_diff              date_o              date_i\n",
       "0         0       3.0 2017-01-01 23:33:00 2017-01-01 23:30:00\n",
       "1         0       9.0 2017-01-02 23:39:00 2017-01-02 23:30:00\n",
       "2         0       9.0 2017-01-03 23:39:00 2017-01-03 23:30:00"
      ]
     },
     "execution_count": 20,
     "metadata": {},
     "output_type": "execute_result"
    }
   ],
   "source": [
    "df_out[\"delay_15\"] = df_out[\"min_diff\"].apply( lambda x: 1 if x >15 else 0 )\n",
    "df_out[[\"delay_15\",\"min_diff\",\"date_o\",\"date_i\",]].head(3)"
   ]
  },
  {
   "cell_type": "code",
   "execution_count": 21,
   "metadata": {},
   "outputs": [],
   "source": [
    "del df_out"
   ]
  },
  {
   "attachments": {},
   "cell_type": "markdown",
   "metadata": {},
   "source": [
    "## Proceso automatizado"
   ]
  },
  {
   "cell_type": "code",
   "execution_count": 22,
   "metadata": {},
   "outputs": [
    {
     "data": {
      "text/html": [
       "<div>\n",
       "<style scoped>\n",
       "    .dataframe tbody tr th:only-of-type {\n",
       "        vertical-align: middle;\n",
       "    }\n",
       "\n",
       "    .dataframe tbody tr th {\n",
       "        vertical-align: top;\n",
       "    }\n",
       "\n",
       "    .dataframe thead th {\n",
       "        text-align: right;\n",
       "    }\n",
       "</style>\n",
       "<table border=\"1\" class=\"dataframe\">\n",
       "  <thead>\n",
       "    <tr style=\"text-align: right;\">\n",
       "      <th></th>\n",
       "      <th>0</th>\n",
       "      <th>1</th>\n",
       "    </tr>\n",
       "  </thead>\n",
       "  <tbody>\n",
       "    <tr>\n",
       "      <th>id_vuelo</th>\n",
       "      <td>0</td>\n",
       "      <td>1</td>\n",
       "    </tr>\n",
       "    <tr>\n",
       "      <th>Fecha-I</th>\n",
       "      <td>2017-01-01 23:30:00</td>\n",
       "      <td>2017-01-02 23:30:00</td>\n",
       "    </tr>\n",
       "    <tr>\n",
       "      <th>Vlo-I</th>\n",
       "      <td>226</td>\n",
       "      <td>226</td>\n",
       "    </tr>\n",
       "    <tr>\n",
       "      <th>Ori-I</th>\n",
       "      <td>SCEL</td>\n",
       "      <td>SCEL</td>\n",
       "    </tr>\n",
       "    <tr>\n",
       "      <th>Des-I</th>\n",
       "      <td>KMIA</td>\n",
       "      <td>KMIA</td>\n",
       "    </tr>\n",
       "    <tr>\n",
       "      <th>Emp-I</th>\n",
       "      <td>AAL</td>\n",
       "      <td>AAL</td>\n",
       "    </tr>\n",
       "    <tr>\n",
       "      <th>Fecha-O</th>\n",
       "      <td>2017-01-01 23:33:00</td>\n",
       "      <td>2017-01-02 23:39:00</td>\n",
       "    </tr>\n",
       "    <tr>\n",
       "      <th>Vlo-O</th>\n",
       "      <td>226</td>\n",
       "      <td>226</td>\n",
       "    </tr>\n",
       "    <tr>\n",
       "      <th>Ori-O</th>\n",
       "      <td>SCEL</td>\n",
       "      <td>SCEL</td>\n",
       "    </tr>\n",
       "    <tr>\n",
       "      <th>Des-O</th>\n",
       "      <td>KMIA</td>\n",
       "      <td>KMIA</td>\n",
       "    </tr>\n",
       "    <tr>\n",
       "      <th>Emp-O</th>\n",
       "      <td>AAL</td>\n",
       "      <td>AAL</td>\n",
       "    </tr>\n",
       "    <tr>\n",
       "      <th>DIA</th>\n",
       "      <td>1</td>\n",
       "      <td>2</td>\n",
       "    </tr>\n",
       "    <tr>\n",
       "      <th>MES</th>\n",
       "      <td>1</td>\n",
       "      <td>1</td>\n",
       "    </tr>\n",
       "    <tr>\n",
       "      <th>AÑO</th>\n",
       "      <td>2017</td>\n",
       "      <td>2017</td>\n",
       "    </tr>\n",
       "    <tr>\n",
       "      <th>DIANOM</th>\n",
       "      <td>Domingo</td>\n",
       "      <td>Lunes</td>\n",
       "    </tr>\n",
       "    <tr>\n",
       "      <th>TIPOVUELO</th>\n",
       "      <td>I</td>\n",
       "      <td>I</td>\n",
       "    </tr>\n",
       "    <tr>\n",
       "      <th>OPERA</th>\n",
       "      <td>American Airlines</td>\n",
       "      <td>American Airlines</td>\n",
       "    </tr>\n",
       "    <tr>\n",
       "      <th>SIGLAORI</th>\n",
       "      <td>Santiago</td>\n",
       "      <td>Santiago</td>\n",
       "    </tr>\n",
       "    <tr>\n",
       "      <th>SIGLADES</th>\n",
       "      <td>Miami</td>\n",
       "      <td>Miami</td>\n",
       "    </tr>\n",
       "    <tr>\n",
       "      <th>date_i</th>\n",
       "      <td>2017-01-01 23:30:00</td>\n",
       "      <td>2017-01-02 23:30:00</td>\n",
       "    </tr>\n",
       "    <tr>\n",
       "      <th>date_o</th>\n",
       "      <td>2017-01-01 23:33:00</td>\n",
       "      <td>2017-01-02 23:39:00</td>\n",
       "    </tr>\n",
       "    <tr>\n",
       "      <th>high_season</th>\n",
       "      <td>1</td>\n",
       "      <td>1</td>\n",
       "    </tr>\n",
       "    <tr>\n",
       "      <th>period_day</th>\n",
       "      <td>night</td>\n",
       "      <td>night</td>\n",
       "    </tr>\n",
       "    <tr>\n",
       "      <th>min_diff</th>\n",
       "      <td>3.0</td>\n",
       "      <td>9.0</td>\n",
       "    </tr>\n",
       "    <tr>\n",
       "      <th>delay_15</th>\n",
       "      <td>0</td>\n",
       "      <td>0</td>\n",
       "    </tr>\n",
       "  </tbody>\n",
       "</table>\n",
       "</div>"
      ],
      "text/plain": [
       "                               0                    1\n",
       "id_vuelo                       0                    1\n",
       "Fecha-I      2017-01-01 23:30:00  2017-01-02 23:30:00\n",
       "Vlo-I                        226                  226\n",
       "Ori-I                       SCEL                 SCEL\n",
       "Des-I                       KMIA                 KMIA\n",
       "Emp-I                        AAL                  AAL\n",
       "Fecha-O      2017-01-01 23:33:00  2017-01-02 23:39:00\n",
       "Vlo-O                        226                  226\n",
       "Ori-O                       SCEL                 SCEL\n",
       "Des-O                       KMIA                 KMIA\n",
       "Emp-O                        AAL                  AAL\n",
       "DIA                            1                    2\n",
       "MES                            1                    1\n",
       "AÑO                         2017                 2017\n",
       "DIANOM                   Domingo                Lunes\n",
       "TIPOVUELO                      I                    I\n",
       "OPERA          American Airlines    American Airlines\n",
       "SIGLAORI                Santiago             Santiago\n",
       "SIGLADES                   Miami                Miami\n",
       "date_i       2017-01-01 23:30:00  2017-01-02 23:30:00\n",
       "date_o       2017-01-01 23:33:00  2017-01-02 23:39:00\n",
       "high_season                    1                    1\n",
       "period_day                 night                night\n",
       "min_diff                     3.0                  9.0\n",
       "delay_15                       0                    0"
      ]
     },
     "execution_count": 22,
     "metadata": {},
     "output_type": "execute_result"
    }
   ],
   "source": [
    "df_total = df_origen.reset_index()\n",
    "df_total=df_total.rename(columns= {'index':\"id_vuelo\"})\n",
    "df_total = exp_lib.additional_columns(df_total)\n",
    "df_total.head(2).T"
   ]
  },
  {
   "cell_type": "code",
   "execution_count": null,
   "metadata": {},
   "outputs": [],
   "source": []
  }
 ],
 "metadata": {
  "kernelspec": {
   "display_name": "base",
   "language": "python",
   "name": "python3"
  },
  "language_info": {
   "codemirror_mode": {
    "name": "ipython",
    "version": 3
   },
   "file_extension": ".py",
   "mimetype": "text/x-python",
   "name": "python",
   "nbconvert_exporter": "python",
   "pygments_lexer": "ipython3",
   "version": "3.10.9"
  },
  "orig_nbformat": 4
 },
 "nbformat": 4,
 "nbformat_minor": 2
}
